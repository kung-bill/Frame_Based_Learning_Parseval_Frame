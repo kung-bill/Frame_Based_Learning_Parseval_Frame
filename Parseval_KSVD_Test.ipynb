{
 "cells": [
  {
   "cell_type": "markdown",
   "metadata": {},
   "source": [
    "### Test Parseval K-SVD\n",
    "#### Part1: Learning a K-SVD dictionary for the initial dictionary for Parseval K-SVD"
   ]
  },
  {
   "cell_type": "code",
   "execution_count": null,
   "metadata": {},
   "outputs": [],
   "source": [
    "Im = imread('boat256.png');\n",
    "Im = double(Im);\n",
    "\n",
    "Im_block_col = im2col(Im, [8,8], 'distinct'); %Im block\n",
    "Im_block_col_mean = mean(Im_block_col);\n",
    "Y = Im_block_col - Im_block_col_mean; % E(Yi) = 0, for all i\n",
    "\n",
    "%K-SVD\n",
    "\n",
    "%create overcomplete DCT frame\n",
    "Pn = 16 ;\n",
    "DCT=zeros(8,Pn);\n",
    "for k=0:1:Pn-1,\n",
    "    V=cos([0:1:7]'*k*pi/Pn);\n",
    "    if k>0, V=V-mean(V); end;\n",
    "    DCT(:,k+1)=V/norm(V);\n",
    "end;\n",
    "DCT=kron(DCT,DCT);\n",
    "\n",
    "param.K = 256;\n",
    "param.numIteration = 30;\n",
    "param.InitializationMethod =  'GivenMatrix';\n",
    "param.initialDictionary = DCT;\n",
    "param.displayProgress = 1;\n",
    "param.preserveDCAtom = 1;\n",
    "param.L = 64;\n",
    "param.errorFlag = 0;\n",
    "param.errorGoal = 1.0e-8;\n",
    "[D_svd, output] = KSVD(Y, param);\n",
    "X = full(output.CoefMatrix);\n",
    "\n",
    "KsvdIm = plot_8by8_frame(D_svd);\n",
    "figure;\n",
    "imshow(KsvdIm); title('K-SVD'); %show D_svd element in image"
   ]
  },
  {
   "cell_type": "markdown",
   "metadata": {},
   "source": [
    "#### Part2: Learning the Parseval K-SVD"
   ]
  },
  {
   "cell_type": "code",
   "execution_count": null,
   "metadata": {},
   "outputs": [],
   "source": [
    "Psi0 = D_svd;\n",
    "% Phi0 = D_svd + randn(size(D_svd, 1), size(D_svd, 2));\n",
    "% Phi0 = pinv(D_svd)';\n",
    "Phi0 = D_svd;\n",
    "\n",
    "X0 = X;\n",
    "maxIter = 50;\n",
    "t = 1.0e-10;\n",
    "rho = [0.1, 1.0e+8, 1.0e+8];\n",
    "IsRecord = true;\n",
    "ShowDetail = true;\n",
    "\n",
    "[Psi, Phi, X, Record] = ParsevalKSVD(Y, Psi0, Phi0, X0, maxIter, t, rho, IsRecord, ShowDetail);\n",
    "\n",
    "PsiIm = plot_8by8_frame(Psi); \n",
    "PhiIm = plot_8by8_frame(Phi);\n",
    "figure;\n",
    "subplot(1, 2, 1); imshow(PsiIm); title('$\\psi$','Interpreter','latex');\n",
    "subplot(1, 2, 2); imshow(PhiIm); title('$\\phi$','Interpreter','latex');\n",
    "\n",
    "%Displaying the curve for the convergent behavior\n",
    "figure;\n",
    "plot(Record.augLag); xlabel('Iteration'); ylabel('L');\n",
    "\n",
    "figure;\n",
    "plot(Record.obj_rep); xlabel('Iteration'); ylabel('$\\| Y - \\psi X \\|_F^2$', 'Interpreter','latex');\n",
    "\n",
    "figure;\n",
    "plot(Record.obj_total); xlabel('Iteration'); ylabel('$\\rho_1 \\| Y - \\psi X \\|_F^2 + \\| \\phi^\\top Y -  \\phi^\\top \\psi X \\|_F^2$', 'Interpreter','latex');\n",
    "\n",
    "figure;\n",
    "plot(Record.con1); xlabel('Iteration'); ylabel('$\\| \\psi \\phi^\\top - I \\|_F^2$', 'Interpreter','latex');\n",
    "\n",
    "figure;\n",
    "plot(Record.con2); xlabel('Iteration'); ylabel('$\\| \\psi - \\phi \\|_F^2$', 'Interpreter','latex');\n"
   ]
  },
  {
   "cell_type": "markdown",
   "metadata": {},
   "source": [
    "#### Part3: Image Compression\n",
    "##### PSNR vesus bits per pixel (entropy) "
   ]
  },
  {
   "cell_type": "code",
   "execution_count": null,
   "metadata": {},
   "outputs": [],
   "source": [
    "Bits = 1:12;\n",
    "\n",
    "% The Parseval K-SVD case\n",
    "E1 = zeros(1, length(Bits)); %bit/per pixel\n",
    "P1 = zeros(1, length(Bits)); %PSNR\n",
    "\n",
    "DualPsi = pinv(Psi)';\n",
    "DualPhi = pinv(Phi)';\n",
    "\n",
    "disp('Processing Parseval K-SVD Dictionary');\n",
    "for i = Bits\n",
    "    % Analysis frame is Psi\n",
    "    % Synthesis frame is canonical dual frame DualPsi \n",
    "    [e, p] = ComputeBPP(i, DualPsi, Psi, Im); \n",
    "%     [e, p] = ComputeBPP(i, Phi, DualPhi, Im); \n",
    "    E1(i) = e;\n",
    "    P1(i) = p;\n",
    "    disp(['Computing  Bit ', num2str(i)]);\n",
    "end\n",
    "\n",
    "%bpp is not sorted, so we sorting the bpp.\n",
    "curve1 = zeros(2, length(Bits));\n",
    "[sortedE, r]= sort(E1); \n",
    "curve1(1,:) = sortedE;\n",
    "curve1(2,:) = P1(r);\n",
    "\n",
    "% The K-SVD case\n",
    "Dual_D_svd = pinv(D_svd)';\n",
    "E2 = zeros(1, length(Bits)); %bit/per pixel\n",
    "P2 = zeros(1, length(Bits)); %PSNR\n",
    "disp('Processing K-SVD Dictionary');\n",
    "for i = Bits\n",
    "%     [e, p] = ComputeBPP(i, Dual_D_svd, D_svd, Im);\n",
    "    [e, p] = ComputeBPP(i, D_svd, Dual_D_svd, Im);\n",
    "\n",
    "    E2(i) = e;\n",
    "    P2(i) = p;\n",
    "    disp(['Computing  Bit ', num2str(i)]);\n",
    "end\n",
    "\n",
    "curve2 = zeros(2, length(Bits));\n",
    "[sortedE, r]= sort(E2); \n",
    "curve2(1,:) = sortedE;\n",
    "curve2(2,:) = P2(r);\n",
    "\n",
    "\n",
    "figure; \n",
    "plot(curve1(1,:), curve1(2,:), 'LineStyle' , '-','Marker', '.', 'MarkerSize', 14);\n",
    "hold on\n",
    "plot(curve2(1,:), curve2(2,:), 'LineStyle' , '--', 'Marker', '.', 'MarkerSize', 14);\n",
    "\n",
    "ylim([20, 90]);\n",
    "xlabel('Bits per pixels');\n",
    "ylabel('PSNR(dB)');\n",
    "legend('Parseval K-SVD', 'K-SVD');"
   ]
  }
 ],
 "metadata": {
  "kernelspec": {
   "display_name": "Matlab",
   "language": "matlab",
   "name": "matlab"
  },
  "language_info": {
   "codemirror_mode": "octave",
   "file_extension": ".m",
   "help_links": [
    {
     "text": "MetaKernel Magics",
     "url": "https://metakernel.readthedocs.io/en/latest/source/README.html"
    }
   ],
   "mimetype": "text/x-octave",
   "name": "matlab",
   "version": "0.16.9"
  }
 },
 "nbformat": 4,
 "nbformat_minor": 4
}
